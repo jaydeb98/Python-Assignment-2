{
 "cells": [
  {
   "cell_type": "code",
   "execution_count": 3,
   "id": "6d77dd54-eaa3-44ee-8cbf-4d5722c7f1d5",
   "metadata": {},
   "outputs": [],
   "source": [
    "#1.\n",
    "\n",
    "In Python, the keyword used to create a function is \"def\" . \n",
    "\n",
    "#Function that returns a list of odd numbers in the range from 1 to 25:\n",
    "\n",
    "def odd_num():\n",
    "    odd=[]\n",
    "    for i in range(1,26):\n",
    "        if i%2!=0:\n",
    "            odd.append(i)\n",
    "    return odd    "
   ]
  },
  {
   "cell_type": "code",
   "execution_count": 5,
   "id": "11300950-cc9e-4153-b937-78609d917d64",
   "metadata": {},
   "outputs": [],
   "source": [
    "#2. \n",
    "\n",
    "In Python, *args and **kwargs are special syntax used in function definitions, they allow the function to accept 'n' number of arguments.\n",
    "\n",
    "#Function for *args:\n",
    "\n",
    "def add(*args):\n",
    "    result = 0\n",
    "    for i in args:\n",
    "        result = result+i\n",
    "    return result\n",
    "\n",
    "#Function for **kwargs:\n",
    "\n",
    "def disp(**kwargs):\n",
    "    return kwargs"
   ]
  },
  {
   "cell_type": "code",
   "execution_count": 7,
   "id": "0cc7ccb2-6e0f-41c2-8231-d09e8bf5d16c",
   "metadata": {},
   "outputs": [
    {
     "name": "stdout",
     "output_type": "stream",
     "text": [
      "2\n",
      "4\n",
      "6\n",
      "8\n",
      "10\n"
     ]
    }
   ],
   "source": [
    "#3. \n",
    "\n",
    "An iterator is an object that allows us to traverse through a collection of elements one by one. \n",
    "It provides a way to access the elements of a container without needing to know the underlying details of the container's implementation.\n",
    "\n",
    "To initialize an iterator object in Python, we have to use the iter() function. \n",
    "The iter() function takes an iterable as its argument and returns an iterator object associated with that iterable.\n",
    "\n",
    "To iterate over the elements using an iterator object, we can use the next() function. \n",
    "The next() function retrieves the next element from the iterator. \n",
    "We can call next() repeatedly until all the elements have been accessed.\n",
    "\n",
    "#Method to print first five elements\n",
    "\n",
    "l = [2, 4, 6, 8, 10, 12, 14, 16, 18, 20]\n",
    "m = iter(l)  \n",
    "\n",
    "for i in range(5):\n",
    "    element = next(m)  \n",
    "    print(element)"
   ]
  },
  {
   "cell_type": "code",
   "execution_count": 9,
   "id": "553aef6d-0b3f-4b22-8907-fc7bb4d7a42c",
   "metadata": {},
   "outputs": [
    {
     "name": "stdout",
     "output_type": "stream",
     "text": [
      "0\n",
      "2\n",
      "4\n",
      "6\n",
      "8\n"
     ]
    }
   ],
   "source": [
    "#4.\n",
    "\n",
    "A generator function is a special type of function that generates an iterator.\n",
    "The yield keyword is used in a generator function to temporarily suspend the execution of a function and yield a value to the caller.\n",
    "Yield allows the function to be resumed from where it left off when the next value is requested.\n",
    "\n",
    "#Example of generator function\n",
    "\n",
    "def even(n):\n",
    "    for i in range(n):\n",
    "        if i % 2 == 0:\n",
    "            yield i\n",
    "            \n",
    "k = even(10)  # Calling the generator function returns an iterator\n",
    "\n",
    "for num in k:\n",
    "    print(num)"
   ]
  },
  {
   "cell_type": "code",
   "execution_count": 1,
   "id": "12414b4d-5663-425d-b66e-ec973be48f79",
   "metadata": {},
   "outputs": [
    {
     "name": "stdout",
     "output_type": "stream",
     "text": [
      "2\n",
      "3\n",
      "5\n",
      "7\n",
      "11\n",
      "13\n",
      "17\n",
      "19\n",
      "23\n",
      "29\n",
      "31\n",
      "37\n",
      "41\n",
      "43\n",
      "47\n",
      "53\n",
      "59\n",
      "61\n",
      "67\n",
      "71\n"
     ]
    }
   ],
   "source": [
    "#5. \n",
    "\n",
    "def prime():\n",
    "    p = []\n",
    "    num = 2\n",
    "    while num < 1000:\n",
    "        k = True\n",
    "        for prime in p:\n",
    "            if num % prime == 0:\n",
    "                k = False\n",
    "                break\n",
    "        if k:\n",
    "            p.append(num)\n",
    "            yield num\n",
    "        num = num+1\n",
    "\n",
    "# Print the first 20 prime numbers\n",
    "first = prime()\n",
    "for i in range(20):\n",
    "    print(next(first))"
   ]
  },
  {
   "cell_type": "code",
   "execution_count": 2,
   "id": "2d1aa9c0-ae0c-49ed-9fc1-1967412a4b12",
   "metadata": {},
   "outputs": [
    {
     "name": "stdout",
     "output_type": "stream",
     "text": [
      "0\n",
      "1\n",
      "1\n",
      "2\n",
      "3\n",
      "5\n",
      "8\n",
      "13\n",
      "21\n",
      "34\n"
     ]
    }
   ],
   "source": [
    "#6.\n",
    "\n",
    "#Fibonacci series for first 10 numbers\n",
    "\n",
    "a, b = 0, 1\n",
    "count = 1\n",
    "while count <= 10:\n",
    "    print(a)\n",
    "    c=a+b\n",
    "    a=b\n",
    "    b=c\n",
    "    count = count+1"
   ]
  },
  {
   "cell_type": "code",
   "execution_count": 3,
   "id": "e94f20a2-799e-43c9-a0d8-ed3635055e1b",
   "metadata": {},
   "outputs": [],
   "source": [
    "#7.\n",
    "\n",
    "a = 'pwskills'\n",
    "output = [i for i in a if i.isalpha()]"
   ]
  },
  {
   "cell_type": "code",
   "execution_count": 4,
   "id": "e10aa0d9-c367-46d9-921d-f7ddf356b188",
   "metadata": {},
   "outputs": [
    {
     "data": {
      "text/plain": [
       "['p', 'w', 's', 'k', 'i', 'l', 'l', 's']"
      ]
     },
     "execution_count": 4,
     "metadata": {},
     "output_type": "execute_result"
    }
   ],
   "source": [
    "output"
   ]
  },
  {
   "cell_type": "code",
   "execution_count": 5,
   "id": "0356cbcb-e9ac-451e-a506-226b5350fd52",
   "metadata": {},
   "outputs": [
    {
     "name": "stdin",
     "output_type": "stream",
     "text": [
      "Enter a number:  5965695\n"
     ]
    },
    {
     "name": "stdout",
     "output_type": "stream",
     "text": [
      "The number is a palindrome.\n"
     ]
    }
   ],
   "source": [
    "#8.\n",
    "\n",
    "number = int(input(\"Enter a number: \"))\n",
    "original = number\n",
    "reversed = 0\n",
    "\n",
    "while number > 0:\n",
    "    remainder = number % 10\n",
    "    reversed = (reversed * 10) + remainder\n",
    "    number = number//10\n",
    "\n",
    "if original == reversed:\n",
    "    print(\"The number is a palindrome.\")\n",
    "else:\n",
    "    print(\"The number is not a palindrome.\")\n"
   ]
  },
  {
   "cell_type": "code",
   "execution_count": 6,
   "id": "ea14e1d1-dcbe-4c03-97f2-2bf0ca342cad",
   "metadata": {},
   "outputs": [],
   "source": [
    "#9.\n",
    "\n",
    "# List comprehension for number 1-100:\n",
    "\n",
    "l=[i for i in range (1,101)]\n",
    "\n",
    "# List comprehension for odd numbers between 1-100:\n",
    "\n",
    "k=[i for i in l if i%2!=0]"
   ]
  },
  {
   "cell_type": "code",
   "execution_count": 8,
   "id": "0b99e08a-3802-4f42-98e4-eca9e8964078",
   "metadata": {},
   "outputs": [
    {
     "data": {
      "text/plain": [
       "[1,\n",
       " 2,\n",
       " 3,\n",
       " 4,\n",
       " 5,\n",
       " 6,\n",
       " 7,\n",
       " 8,\n",
       " 9,\n",
       " 10,\n",
       " 11,\n",
       " 12,\n",
       " 13,\n",
       " 14,\n",
       " 15,\n",
       " 16,\n",
       " 17,\n",
       " 18,\n",
       " 19,\n",
       " 20,\n",
       " 21,\n",
       " 22,\n",
       " 23,\n",
       " 24,\n",
       " 25,\n",
       " 26,\n",
       " 27,\n",
       " 28,\n",
       " 29,\n",
       " 30,\n",
       " 31,\n",
       " 32,\n",
       " 33,\n",
       " 34,\n",
       " 35,\n",
       " 36,\n",
       " 37,\n",
       " 38,\n",
       " 39,\n",
       " 40,\n",
       " 41,\n",
       " 42,\n",
       " 43,\n",
       " 44,\n",
       " 45,\n",
       " 46,\n",
       " 47,\n",
       " 48,\n",
       " 49,\n",
       " 50,\n",
       " 51,\n",
       " 52,\n",
       " 53,\n",
       " 54,\n",
       " 55,\n",
       " 56,\n",
       " 57,\n",
       " 58,\n",
       " 59,\n",
       " 60,\n",
       " 61,\n",
       " 62,\n",
       " 63,\n",
       " 64,\n",
       " 65,\n",
       " 66,\n",
       " 67,\n",
       " 68,\n",
       " 69,\n",
       " 70,\n",
       " 71,\n",
       " 72,\n",
       " 73,\n",
       " 74,\n",
       " 75,\n",
       " 76,\n",
       " 77,\n",
       " 78,\n",
       " 79,\n",
       " 80,\n",
       " 81,\n",
       " 82,\n",
       " 83,\n",
       " 84,\n",
       " 85,\n",
       " 86,\n",
       " 87,\n",
       " 88,\n",
       " 89,\n",
       " 90,\n",
       " 91,\n",
       " 92,\n",
       " 93,\n",
       " 94,\n",
       " 95,\n",
       " 96,\n",
       " 97,\n",
       " 98,\n",
       " 99,\n",
       " 100]"
      ]
     },
     "execution_count": 8,
     "metadata": {},
     "output_type": "execute_result"
    }
   ],
   "source": [
    "l"
   ]
  },
  {
   "cell_type": "code",
   "execution_count": 9,
   "id": "4be9793f-0d1e-4dcd-903d-cd671d302a35",
   "metadata": {},
   "outputs": [
    {
     "data": {
      "text/plain": [
       "[1,\n",
       " 3,\n",
       " 5,\n",
       " 7,\n",
       " 9,\n",
       " 11,\n",
       " 13,\n",
       " 15,\n",
       " 17,\n",
       " 19,\n",
       " 21,\n",
       " 23,\n",
       " 25,\n",
       " 27,\n",
       " 29,\n",
       " 31,\n",
       " 33,\n",
       " 35,\n",
       " 37,\n",
       " 39,\n",
       " 41,\n",
       " 43,\n",
       " 45,\n",
       " 47,\n",
       " 49,\n",
       " 51,\n",
       " 53,\n",
       " 55,\n",
       " 57,\n",
       " 59,\n",
       " 61,\n",
       " 63,\n",
       " 65,\n",
       " 67,\n",
       " 69,\n",
       " 71,\n",
       " 73,\n",
       " 75,\n",
       " 77,\n",
       " 79,\n",
       " 81,\n",
       " 83,\n",
       " 85,\n",
       " 87,\n",
       " 89,\n",
       " 91,\n",
       " 93,\n",
       " 95,\n",
       " 97,\n",
       " 99]"
      ]
     },
     "execution_count": 9,
     "metadata": {},
     "output_type": "execute_result"
    }
   ],
   "source": [
    "k"
   ]
  },
  {
   "cell_type": "code",
   "execution_count": null,
   "id": "26784bec-9a5f-4e45-a094-639f28f9a5b7",
   "metadata": {},
   "outputs": [],
   "source": []
  }
 ],
 "metadata": {
  "kernelspec": {
   "display_name": "Python 3 (ipykernel)",
   "language": "python",
   "name": "python3"
  },
  "language_info": {
   "codemirror_mode": {
    "name": "ipython",
    "version": 3
   },
   "file_extension": ".py",
   "mimetype": "text/x-python",
   "name": "python",
   "nbconvert_exporter": "python",
   "pygments_lexer": "ipython3",
   "version": "3.10.8"
  }
 },
 "nbformat": 4,
 "nbformat_minor": 5
}
